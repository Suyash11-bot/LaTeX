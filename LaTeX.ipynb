{
  "nbformat": 4,
  "nbformat_minor": 0,
  "metadata": {
    "colab": {
      "provenance": []
    },
    "kernelspec": {
      "name": "python3",
      "display_name": "Python 3"
    },
    "language_info": {
      "name": "python"
    }
  },
  "cells": [
    {
      "cell_type": "code",
      "execution_count": 1,
      "metadata": {
        "colab": {
          "base_uri": "https://localhost:8080/"
        },
        "id": "064IHB3bsplt",
        "outputId": "33dc0452-72d5-44ca-caab-30b03bab1ecf"
      },
      "outputs": [
        {
          "output_type": "stream",
          "name": "stdout",
          "text": [
            "Collecting latexify-py==0.2.0\n",
            "  Downloading latexify_py-0.2.0-py3-none-any.whl (22 kB)\n",
            "Collecting dill>=0.3.2 (from latexify-py==0.2.0)\n",
            "  Downloading dill-0.3.7-py3-none-any.whl (115 kB)\n",
            "\u001b[2K     \u001b[90m━━━━━━━━━━━━━━━━━━━━━━━━━━━━━━━━━━━━━━━\u001b[0m \u001b[32m115.3/115.3 kB\u001b[0m \u001b[31m3.7 MB/s\u001b[0m eta \u001b[36m0:00:00\u001b[0m\n",
            "\u001b[?25hInstalling collected packages: dill, latexify-py\n",
            "Successfully installed dill-0.3.7 latexify-py-0.2.0\n"
          ]
        }
      ],
      "source": [
        "%pip install latexify-py==0.2.0"
      ]
    },
    {
      "cell_type": "code",
      "source": [
        "import math\n",
        "import latexify\n",
        "\n",
        "latexify.__version__"
      ],
      "metadata": {
        "colab": {
          "base_uri": "https://localhost:8080/",
          "height": 35
        },
        "id": "dUZLxIWIsrQy",
        "outputId": "aa2197ff-5849-4210-8e29-b7857840fdea"
      },
      "execution_count": 2,
      "outputs": [
        {
          "output_type": "execute_result",
          "data": {
            "text/plain": [
              "'0.2.0'"
            ],
            "application/vnd.google.colaboratory.intrinsic+json": {
              "type": "string"
            }
          },
          "metadata": {},
          "execution_count": 2
        }
      ]
    },
    {
      "cell_type": "code",
      "source": [
        "@latexify.function\n",
        "def sigmoid(x):\n",
        "  return 1 / (1 + math.exp(-x))\n",
        "\n",
        "sigmoid"
      ],
      "metadata": {
        "colab": {
          "base_uri": "https://localhost:8080/",
          "height": 55
        },
        "id": "lDF7Icg4syy8",
        "outputId": "8ad54a6b-3446-4b7c-d162-04100d5af118"
      },
      "execution_count": 3,
      "outputs": [
        {
          "output_type": "execute_result",
          "data": {
            "text/plain": [
              "<latexify.frontend.LatexifiedFunction at 0x7a67c8106fb0>"
            ],
            "text/latex": "$$ \\displaystyle \\mathrm{sigmoid}(x) = \\frac{{1}}{{1} + \\exp{\\left({-x}\\right)}} $$"
          },
          "metadata": {},
          "execution_count": 3
        }
      ]
    },
    {
      "cell_type": "code",
      "source": [
        "print(sigmoid)"
      ],
      "metadata": {
        "colab": {
          "base_uri": "https://localhost:8080/"
        },
        "id": "6PuVb-lQs4qH",
        "outputId": "a6701350-d57f-49bd-8ad5-963df0acd5b7"
      },
      "execution_count": 4,
      "outputs": [
        {
          "output_type": "stream",
          "name": "stdout",
          "text": [
            "\\mathrm{sigmoid}(x) = \\frac{{1}}{{1} + \\exp{\\left({-x}\\right)}}\n"
          ]
        }
      ]
    },
    {
      "cell_type": "code",
      "source": [
        "sigmoid(1)"
      ],
      "metadata": {
        "colab": {
          "base_uri": "https://localhost:8080/"
        },
        "id": "EVNfaZyPs8hv",
        "outputId": "158dbdec-74f0-4fc9-fe86-7b69398d639b"
      },
      "execution_count": 5,
      "outputs": [
        {
          "output_type": "execute_result",
          "data": {
            "text/plain": [
              "0.7310585786300049"
            ]
          },
          "metadata": {},
          "execution_count": 5
        }
      ]
    },
    {
      "cell_type": "code",
      "source": [
        "@latexify.expression\n",
        "def sigmoid(x):\n",
        "  return 1 / (1 + math.exp(-x))\n",
        "\n",
        "sigmoid"
      ],
      "metadata": {
        "colab": {
          "base_uri": "https://localhost:8080/",
          "height": 55
        },
        "id": "AnXly2NOtB7E",
        "outputId": "072c5b97-5da7-4e60-e2a4-78ad323469c6"
      },
      "execution_count": 6,
      "outputs": [
        {
          "output_type": "execute_result",
          "data": {
            "text/plain": [
              "<latexify.frontend.LatexifiedFunction at 0x7a67c81075b0>"
            ],
            "text/latex": "$$ \\displaystyle \\frac{{1}}{{1} + \\exp{\\left({-x}\\right)}} $$"
          },
          "metadata": {},
          "execution_count": 6
        }
      ]
    },
    {
      "cell_type": "code",
      "source": [
        "def sigmoid(x):\n",
        "  return 1 / (1 + math.exp(-x))\n",
        "\n",
        "latexify.get_latex(sigmoid)"
      ],
      "metadata": {
        "colab": {
          "base_uri": "https://localhost:8080/",
          "height": 35
        },
        "id": "KWeBN7AJtFS4",
        "outputId": "b662be4b-9aa9-4945-c3e7-df64f249bd04"
      },
      "execution_count": 7,
      "outputs": [
        {
          "output_type": "execute_result",
          "data": {
            "text/plain": [
              "'\\\\mathrm{sigmoid}(x) = \\\\frac{{1}}{{1} + \\\\exp{\\\\left({-x}\\\\right)}}'"
            ],
            "application/vnd.google.colaboratory.intrinsic+json": {
              "type": "string"
            }
          },
          "metadata": {},
          "execution_count": 7
        }
      ]
    },
    {
      "cell_type": "code",
      "source": [
        "@latexify.function\n",
        "def relu(x):\n",
        "    if x > 0:\n",
        "        return x\n",
        "    else:\n",
        "        return 0\n",
        "\n",
        "relu"
      ],
      "metadata": {
        "colab": {
          "base_uri": "https://localhost:8080/",
          "height": 58
        },
        "id": "7khQexzGt3MT",
        "outputId": "3a84611d-e053-4075-cdc9-1140b377b01e"
      },
      "execution_count": 8,
      "outputs": [
        {
          "output_type": "execute_result",
          "data": {
            "text/plain": [
              "<latexify.frontend.LatexifiedFunction at 0x7a67c8107070>"
            ],
            "text/latex": "$$ \\displaystyle \\mathrm{relu}(x) = \\left\\{ \\begin{array}{ll} x, & \\mathrm{if} \\ {x > {0}} \\\\ {0}, & \\mathrm{otherwise} \\end{array} \\right. $$"
          },
          "metadata": {},
          "execution_count": 8
        }
      ]
    },
    {
      "cell_type": "code",
      "source": [
        "@latexify.function(use_math_symbols=True, use_signature=False)\n",
        "def linear_regression(x, w, beta):\n",
        "    return w * x + beta\n",
        "\n",
        "linear_regression"
      ],
      "metadata": {
        "colab": {
          "base_uri": "https://localhost:8080/",
          "height": 39
        },
        "id": "G47Q0R4nt-R5",
        "outputId": "01051543-4d0d-4a1f-862f-d7a867462212"
      },
      "execution_count": 9,
      "outputs": [
        {
          "output_type": "execute_result",
          "data": {
            "text/plain": [
              "<latexify.frontend.LatexifiedFunction at 0x7a67c8106f20>"
            ],
            "text/latex": "$$ \\displaystyle w x + {\\beta} $$"
          },
          "metadata": {},
          "execution_count": 9
        }
      ]
    },
    {
      "cell_type": "code",
      "source": [
        "identifiers = {\n",
        "    \"linear_regression\": \"y\",\n",
        "    \"w\": \"W\"\n",
        "}\n",
        "\n",
        "@latexify.function(use_math_symbols=True, identifiers=identifiers)\n",
        "def linear_regression(x, w, beta):\n",
        "    return w * x + beta\n",
        "\n",
        "\n",
        "linear_regression"
      ],
      "metadata": {
        "colab": {
          "base_uri": "https://localhost:8080/",
          "height": 39
        },
        "id": "AKaZCczFuGf_",
        "outputId": "5e048bea-cc09-45d8-b830-a24202b89aed"
      },
      "execution_count": 10,
      "outputs": [
        {
          "output_type": "execute_result",
          "data": {
            "text/plain": [
              "<latexify.frontend.LatexifiedFunction at 0x7a67c8107760>"
            ],
            "text/latex": "$$ \\displaystyle \\mathrm{y}(x, W, {\\beta}) = W x + {\\beta} $$"
          },
          "metadata": {},
          "execution_count": 10
        }
      ]
    },
    {
      "cell_type": "code",
      "source": [
        "@latexify.function(use_set_symbols=True)\n",
        "def jaccard_similarity(a, b):\n",
        "    return len(a & b) / len(a | b)\n",
        "\n",
        "jaccard_similarity"
      ],
      "metadata": {
        "colab": {
          "base_uri": "https://localhost:8080/",
          "height": 57
        },
        "id": "fyclKWMQuSCX",
        "outputId": "8fc65a03-d18f-45ce-891c-606a863be3fb"
      },
      "execution_count": 13,
      "outputs": [
        {
          "output_type": "execute_result",
          "data": {
            "text/plain": [
              "<latexify.frontend.LatexifiedFunction at 0x7a67c8107100>"
            ],
            "text/latex": "$$ \\displaystyle \\mathrm{jaccard_similarity}(a, b) = \\frac{\\mathrm{len}\\left(a \\cap b\\right)}{\\mathrm{len}\\left(a \\cup b\\right)} $$"
          },
          "metadata": {},
          "execution_count": 13
        }
      ]
    },
    {
      "cell_type": "code",
      "source": [
        "identifiers = {\n",
        "    \"jaccard_similarity\": \"J\",\n",
        "    \"a\": \"A\",\n",
        "    \"b\": \"B\",\n",
        "    \"len\": \"cardinality\"\n",
        "}\n",
        "\n",
        "@latexify.function(use_set_symbols=True, identifiers=identifiers)\n",
        "def jaccard_similarity(a, b):\n",
        "    return len(a & b) / len(a | b)\n",
        "\n",
        "jaccard_similarity"
      ],
      "metadata": {
        "colab": {
          "base_uri": "https://localhost:8080/",
          "height": 57
        },
        "id": "PNn4zojlubxR",
        "outputId": "6ec1a592-c62e-49c6-8b0d-efaced5598f1"
      },
      "execution_count": 16,
      "outputs": [
        {
          "output_type": "execute_result",
          "data": {
            "text/plain": [
              "<latexify.frontend.LatexifiedFunction at 0x7a67c8107a00>"
            ],
            "text/latex": "$$ \\displaystyle \\mathrm{J}(A, B) = \\frac{\\mathrm{cardinality}\\left(A \\cap B\\right)}{\\mathrm{cardinality}\\left(A \\cup B\\right)} $$"
          },
          "metadata": {},
          "execution_count": 16
        }
      ]
    },
    {
      "cell_type": "code",
      "source": [
        "# logit function\n",
        "@latexify.function(reduce_assignments=True)\n",
        "def logit(p):\n",
        "    nominator = p\n",
        "    denominator = 1 - p\n",
        "    return math.log(nominator / denominator)\n",
        "\n",
        "logit"
      ],
      "metadata": {
        "colab": {
          "base_uri": "https://localhost:8080/",
          "height": 58
        },
        "id": "Zhu4TiVguqd7",
        "outputId": "e56d35bc-1f9d-422b-f2ce-a18b505eab0c"
      },
      "execution_count": 19,
      "outputs": [
        {
          "output_type": "execute_result",
          "data": {
            "text/plain": [
              "<latexify.frontend.LatexifiedFunction at 0x7a6797d157b0>"
            ],
            "text/latex": "$$ \\displaystyle \\mathrm{logit}(p) = \\log{\\left({\\frac{p}{{1} - p}}\\right)} $$"
          },
          "metadata": {},
          "execution_count": 19
        }
      ]
    },
    {
      "cell_type": "code",
      "source": [],
      "metadata": {
        "id": "Y5rYHEU9u6Py"
      },
      "execution_count": null,
      "outputs": []
    }
  ]
}